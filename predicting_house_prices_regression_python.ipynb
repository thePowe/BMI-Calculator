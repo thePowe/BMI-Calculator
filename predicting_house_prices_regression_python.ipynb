{
  "cells": [
    {
      "cell_type": "markdown",
      "metadata": {
        "id": "view-in-github",
        "colab_type": "text"
      },
      "source": [
        "<a href=\"https://colab.research.google.com/github/thePowe/BMI-Calculator/blob/main/predicting_house_prices_regression_python.ipynb\" target=\"_parent\"><img src=\"https://colab.research.google.com/assets/colab-badge.svg\" alt=\"Open In Colab\"/></a>"
      ]
    },
    {
      "cell_type": "code",
      "execution_count": 1,
      "id": "2a947315-bdbd-4bbb-a9df-5c0ac00c0e44",
      "metadata": {
        "id": "2a947315-bdbd-4bbb-a9df-5c0ac00c0e44",
        "colab": {
          "base_uri": "https://localhost:8080/",
          "height": 0
        },
        "outputId": "87c4a9c4-33e7-4b4c-c7de-f9da56b4660f"
      },
      "outputs": [
        {
          "output_type": "stream",
          "name": "stdout",
          "text": [
            "Mounted at /content/drive\n"
          ]
        }
      ],
      "source": [
        "from google.colab import drive\n",
        "drive.mount('/content/drive', force_remount=True)"
      ]
    },
    {
      "cell_type": "markdown",
      "source": [
        "### Import necessary libraries"
      ],
      "metadata": {
        "id": "Crib6dvSSKoY"
      },
      "id": "Crib6dvSSKoY"
    },
    {
      "cell_type": "code",
      "source": [
        "import pandas as pd\n",
        "import numpy as np"
      ],
      "metadata": {
        "id": "_4DU7HlvmuXA"
      },
      "id": "_4DU7HlvmuXA",
      "execution_count": 42,
      "outputs": []
    },
    {
      "cell_type": "code",
      "source": [
        "import matplotlib.pyplot as plt\n",
        "plt.style.use('ggplot')"
      ],
      "metadata": {
        "id": "Qk3fXqNcmpu2"
      },
      "id": "Qk3fXqNcmpu2",
      "execution_count": 43,
      "outputs": []
    },
    {
      "cell_type": "code",
      "source": [
        "# import the regressors\n",
        "from sklearn.linear_model import LinearRegression\n",
        "from sklearn.preprocessing import PolynomialFeatures\n",
        "from sklearn.pipeline import Pipeline\n",
        "from sklearn.linear_model import Ridge\n",
        "from sklearn.linear_model import Lasso\n",
        "from sklearn.linear_model import ElasticNet\n",
        "from sklearn.tree import DecisionTreeRegressor\n",
        "from sklearn.ensemble import RandomForestRegressor\n",
        "from sklearn.ensemble import GradientBoostingRegressor\n",
        "from xgboost import XGBRegressor\n",
        "from sklearn.neural_network import MLPRegressor\n",
        "from sklearn.svm import SVR\n",
        "from sklearn.neighbors import KNeighborsRegressor\n",
        "from sklearn.pipeline import make_pipeline\n",
        "\n",
        "# import metrics\n",
        "from sklearn.metrics import mean_squared_error, mean_absolute_error, r2_score"
      ],
      "metadata": {
        "id": "eVQMB-dLjr7u"
      },
      "id": "eVQMB-dLjr7u",
      "execution_count": 44,
      "outputs": []
    },
    {
      "cell_type": "markdown",
      "source": [
        "### Functions to Evaluate the machine learning models"
      ],
      "metadata": {
        "id": "_72FQhYJSPVb"
      },
      "id": "_72FQhYJSPVb"
    },
    {
      "cell_type": "code",
      "source": [
        "def evaluate_model(model, X_train, y_train, X_test, y_test):\n",
        "    \"\"\"\n",
        "    This function takes model: Regressor, X_train, y_train, X_test, y_test\n",
        "\n",
        "    and returns the \n",
        "    \"\"\"\n",
        "    # train\n",
        "    model.fit(X_train, y_train)\n",
        "    # predict\n",
        "    y_pred = model.predict(X_test)\n",
        "    # calculate MSE\n",
        "    mse = mean_squared_error(y_test, y_pred)\n",
        "    #calculate MAE\n",
        "    mae = mean_absolute_error(y_test, y_pred)\n",
        "    #calculate R-Squared\n",
        "    r2 = r2_score(y_test, y_pred)\n",
        "    # calculate RMSE\n",
        "    rmse = np.sqrt(mse)\n",
        "    return mse, mae, r2, rmse, model, y_pred\n",
        "    # return rmse"
      ],
      "metadata": {
        "id": "8H-p-OjekmR2"
      },
      "id": "8H-p-OjekmR2",
      "execution_count": 5,
      "outputs": []
    },
    {
      "cell_type": "code",
      "source": [
        "def evaluate_regressors_rmses(regressors, regressor_names, X_train, y_train, X_test, y_test):\n",
        "    # evaluate the models and compute their RMSE on the test data\n",
        "\n",
        "    rmses = [evaluate_model(regressor, X_train, y_train, X_test, y_test)[3] for regressor in regressors]\n",
        "    \n",
        "    # create a dictionary mapping the names of the regressors to their RMSE\n",
        "    regressor_rmses = dict(zip(regressor_names, rmses))\n",
        "    \n",
        "    # convert the dictionary to a pandas dataframe\n",
        "    df = pd.DataFrame.from_dict(regressor_rmses, orient='index')\n",
        "    \n",
        "    # reset the index of the dataframe\n",
        "    df = df.reset_index()\n",
        "    \n",
        "    # rename the columns of the dataframe\n",
        "    df.columns = ['regressor_name', 'rmse']\n",
        "    \n",
        "    # sort the dataframe by RMSE in ascending order\n",
        "    return df.sort_values('rmse', ignore_index=True)"
      ],
      "metadata": {
        "id": "d0fgK8owkyyz"
      },
      "id": "d0fgK8owkyyz",
      "execution_count": 6,
      "outputs": []
    },
    {
      "cell_type": "markdown",
      "source": [
        "### Class to plot graph"
      ],
      "metadata": {
        "id": "bJrcM5icYjXF"
      },
      "id": "bJrcM5icYjXF"
    },
    {
      "cell_type": "code",
      "source": [
        "class Plots:\n",
        "  def __init__(self, truth, prediction):\n",
        "     self.truth = truth\n",
        "     self.prediction = prediction\n",
        "\n",
        "  def make_plot(self):\n",
        "    plt.plot(self.truth, color=\"red\", label=\"truth\")\n",
        "    plt.plot(self.prediction, color=\"blue\", label=\"predicted\")\n",
        "    plt.legend()\n",
        "    plt.grid()\n",
        "    plt.title(\"Comparing truth and predicted regression values\")\n",
        "    plt.tight_layout()\n",
        "    plt.show()\n",
        "\n",
        "  def scatter(self):\n",
        "    plt.scatter(self.truth, self.prediction, color=\"blue\")\n",
        "    plt.xlabel('Actual Values')\n",
        "    plt.ylabel('Predicted Values')\n",
        "    plt.title('Actual vs Predicted Values')\n",
        "    plt.show()"
      ],
      "metadata": {
        "id": "gA6Sof0qptDj"
      },
      "id": "gA6Sof0qptDj",
      "execution_count": 7,
      "outputs": []
    },
    {
      "cell_type": "markdown",
      "source": [
        "### Read the Datasets"
      ],
      "metadata": {
        "id": "yfMWl-kzY1Ko"
      },
      "id": "yfMWl-kzY1Ko"
    },
    {
      "cell_type": "code",
      "execution_count": 8,
      "id": "b287a8e2-c1a6-43c7-849c-67e35774e1ee",
      "metadata": {
        "id": "b287a8e2-c1a6-43c7-849c-67e35774e1ee"
      },
      "outputs": [],
      "source": [
        "housing_train_data = pd.read_csv('/content/drive/MyDrive/msc_training_dataset.csv')\n",
        "housing_test_data = pd.read_csv('//content/drive/MyDrive/msc_testing_dataset.csv') \n"
      ]
    },
    {
      "cell_type": "code",
      "source": [
        "housing_train_data.shape"
      ],
      "metadata": {
        "colab": {
          "base_uri": "https://localhost:8080/",
          "height": 0
        },
        "id": "DokmW-i8qYwD",
        "outputId": "8b4257b3-12c7-4b0e-ddea-1bb7f8d276a6"
      },
      "id": "DokmW-i8qYwD",
      "execution_count": 9,
      "outputs": [
        {
          "output_type": "execute_result",
          "data": {
            "text/plain": [
              "(3000, 12)"
            ]
          },
          "metadata": {},
          "execution_count": 9
        }
      ]
    },
    {
      "cell_type": "markdown",
      "source": [
        "### View the first 5 rows of the datasets."
      ],
      "metadata": {
        "id": "QH12aN4OZiXp"
      },
      "id": "QH12aN4OZiXp"
    },
    {
      "cell_type": "code",
      "execution_count": 10,
      "id": "9f8a72ee-d4cf-4ce9-88fe-53652618fc47",
      "metadata": {
        "id": "9f8a72ee-d4cf-4ce9-88fe-53652618fc47",
        "colab": {
          "base_uri": "https://localhost:8080/",
          "height": 206
        },
        "outputId": "1db67d97-0549-49a2-8275-519fa778fede"
      },
      "outputs": [
        {
          "output_type": "execute_result",
          "data": {
            "text/plain": [
              "   room  bathroom  kitchen  french_door  backyard  furnished  green_paint  \\\n",
              "0     3         1        2            1         1          0            1   \n",
              "1     5         2        2            2         1          0            0   \n",
              "2     5         2        2            2         1          0            0   \n",
              "3     1         2        1            2         0          0            0   \n",
              "4     2         1        2            3         1          1            0   \n",
              "\n",
              "   solar_power  woodfloor  qlm_security  club_access  price  \n",
              "0            0          0             1            1   6835  \n",
              "1            0          0             1            1   9005  \n",
              "2            0          0             1            1   9005  \n",
              "3            0          1             1            0   5105  \n",
              "4            0          1             1            0   9105  "
            ],
            "text/html": [
              "\n",
              "  <div id=\"df-480b1e5a-a1b5-4de8-9ac2-dd7e9553c5ff\">\n",
              "    <div class=\"colab-df-container\">\n",
              "      <div>\n",
              "<style scoped>\n",
              "    .dataframe tbody tr th:only-of-type {\n",
              "        vertical-align: middle;\n",
              "    }\n",
              "\n",
              "    .dataframe tbody tr th {\n",
              "        vertical-align: top;\n",
              "    }\n",
              "\n",
              "    .dataframe thead th {\n",
              "        text-align: right;\n",
              "    }\n",
              "</style>\n",
              "<table border=\"1\" class=\"dataframe\">\n",
              "  <thead>\n",
              "    <tr style=\"text-align: right;\">\n",
              "      <th></th>\n",
              "      <th>room</th>\n",
              "      <th>bathroom</th>\n",
              "      <th>kitchen</th>\n",
              "      <th>french_door</th>\n",
              "      <th>backyard</th>\n",
              "      <th>furnished</th>\n",
              "      <th>green_paint</th>\n",
              "      <th>solar_power</th>\n",
              "      <th>woodfloor</th>\n",
              "      <th>qlm_security</th>\n",
              "      <th>club_access</th>\n",
              "      <th>price</th>\n",
              "    </tr>\n",
              "  </thead>\n",
              "  <tbody>\n",
              "    <tr>\n",
              "      <th>0</th>\n",
              "      <td>3</td>\n",
              "      <td>1</td>\n",
              "      <td>2</td>\n",
              "      <td>1</td>\n",
              "      <td>1</td>\n",
              "      <td>0</td>\n",
              "      <td>1</td>\n",
              "      <td>0</td>\n",
              "      <td>0</td>\n",
              "      <td>1</td>\n",
              "      <td>1</td>\n",
              "      <td>6835</td>\n",
              "    </tr>\n",
              "    <tr>\n",
              "      <th>1</th>\n",
              "      <td>5</td>\n",
              "      <td>2</td>\n",
              "      <td>2</td>\n",
              "      <td>2</td>\n",
              "      <td>1</td>\n",
              "      <td>0</td>\n",
              "      <td>0</td>\n",
              "      <td>0</td>\n",
              "      <td>0</td>\n",
              "      <td>1</td>\n",
              "      <td>1</td>\n",
              "      <td>9005</td>\n",
              "    </tr>\n",
              "    <tr>\n",
              "      <th>2</th>\n",
              "      <td>5</td>\n",
              "      <td>2</td>\n",
              "      <td>2</td>\n",
              "      <td>2</td>\n",
              "      <td>1</td>\n",
              "      <td>0</td>\n",
              "      <td>0</td>\n",
              "      <td>0</td>\n",
              "      <td>0</td>\n",
              "      <td>1</td>\n",
              "      <td>1</td>\n",
              "      <td>9005</td>\n",
              "    </tr>\n",
              "    <tr>\n",
              "      <th>3</th>\n",
              "      <td>1</td>\n",
              "      <td>2</td>\n",
              "      <td>1</td>\n",
              "      <td>2</td>\n",
              "      <td>0</td>\n",
              "      <td>0</td>\n",
              "      <td>0</td>\n",
              "      <td>0</td>\n",
              "      <td>1</td>\n",
              "      <td>1</td>\n",
              "      <td>0</td>\n",
              "      <td>5105</td>\n",
              "    </tr>\n",
              "    <tr>\n",
              "      <th>4</th>\n",
              "      <td>2</td>\n",
              "      <td>1</td>\n",
              "      <td>2</td>\n",
              "      <td>3</td>\n",
              "      <td>1</td>\n",
              "      <td>1</td>\n",
              "      <td>0</td>\n",
              "      <td>0</td>\n",
              "      <td>1</td>\n",
              "      <td>1</td>\n",
              "      <td>0</td>\n",
              "      <td>9105</td>\n",
              "    </tr>\n",
              "  </tbody>\n",
              "</table>\n",
              "</div>\n",
              "      <button class=\"colab-df-convert\" onclick=\"convertToInteractive('df-480b1e5a-a1b5-4de8-9ac2-dd7e9553c5ff')\"\n",
              "              title=\"Convert this dataframe to an interactive table.\"\n",
              "              style=\"display:none;\">\n",
              "        \n",
              "  <svg xmlns=\"http://www.w3.org/2000/svg\" height=\"24px\"viewBox=\"0 0 24 24\"\n",
              "       width=\"24px\">\n",
              "    <path d=\"M0 0h24v24H0V0z\" fill=\"none\"/>\n",
              "    <path d=\"M18.56 5.44l.94 2.06.94-2.06 2.06-.94-2.06-.94-.94-2.06-.94 2.06-2.06.94zm-11 1L8.5 8.5l.94-2.06 2.06-.94-2.06-.94L8.5 2.5l-.94 2.06-2.06.94zm10 10l.94 2.06.94-2.06 2.06-.94-2.06-.94-.94-2.06-.94 2.06-2.06.94z\"/><path d=\"M17.41 7.96l-1.37-1.37c-.4-.4-.92-.59-1.43-.59-.52 0-1.04.2-1.43.59L10.3 9.45l-7.72 7.72c-.78.78-.78 2.05 0 2.83L4 21.41c.39.39.9.59 1.41.59.51 0 1.02-.2 1.41-.59l7.78-7.78 2.81-2.81c.8-.78.8-2.07 0-2.86zM5.41 20L4 18.59l7.72-7.72 1.47 1.35L5.41 20z\"/>\n",
              "  </svg>\n",
              "      </button>\n",
              "      \n",
              "  <style>\n",
              "    .colab-df-container {\n",
              "      display:flex;\n",
              "      flex-wrap:wrap;\n",
              "      gap: 12px;\n",
              "    }\n",
              "\n",
              "    .colab-df-convert {\n",
              "      background-color: #E8F0FE;\n",
              "      border: none;\n",
              "      border-radius: 50%;\n",
              "      cursor: pointer;\n",
              "      display: none;\n",
              "      fill: #1967D2;\n",
              "      height: 32px;\n",
              "      padding: 0 0 0 0;\n",
              "      width: 32px;\n",
              "    }\n",
              "\n",
              "    .colab-df-convert:hover {\n",
              "      background-color: #E2EBFA;\n",
              "      box-shadow: 0px 1px 2px rgba(60, 64, 67, 0.3), 0px 1px 3px 1px rgba(60, 64, 67, 0.15);\n",
              "      fill: #174EA6;\n",
              "    }\n",
              "\n",
              "    [theme=dark] .colab-df-convert {\n",
              "      background-color: #3B4455;\n",
              "      fill: #D2E3FC;\n",
              "    }\n",
              "\n",
              "    [theme=dark] .colab-df-convert:hover {\n",
              "      background-color: #434B5C;\n",
              "      box-shadow: 0px 1px 3px 1px rgba(0, 0, 0, 0.15);\n",
              "      filter: drop-shadow(0px 1px 2px rgba(0, 0, 0, 0.3));\n",
              "      fill: #FFFFFF;\n",
              "    }\n",
              "  </style>\n",
              "\n",
              "      <script>\n",
              "        const buttonEl =\n",
              "          document.querySelector('#df-480b1e5a-a1b5-4de8-9ac2-dd7e9553c5ff button.colab-df-convert');\n",
              "        buttonEl.style.display =\n",
              "          google.colab.kernel.accessAllowed ? 'block' : 'none';\n",
              "\n",
              "        async function convertToInteractive(key) {\n",
              "          const element = document.querySelector('#df-480b1e5a-a1b5-4de8-9ac2-dd7e9553c5ff');\n",
              "          const dataTable =\n",
              "            await google.colab.kernel.invokeFunction('convertToInteractive',\n",
              "                                                     [key], {});\n",
              "          if (!dataTable) return;\n",
              "\n",
              "          const docLinkHtml = 'Like what you see? Visit the ' +\n",
              "            '<a target=\"_blank\" href=https://colab.research.google.com/notebooks/data_table.ipynb>data table notebook</a>'\n",
              "            + ' to learn more about interactive tables.';\n",
              "          element.innerHTML = '';\n",
              "          dataTable['output_type'] = 'display_data';\n",
              "          await google.colab.output.renderOutput(dataTable, element);\n",
              "          const docLink = document.createElement('div');\n",
              "          docLink.innerHTML = docLinkHtml;\n",
              "          element.appendChild(docLink);\n",
              "        }\n",
              "      </script>\n",
              "    </div>\n",
              "  </div>\n",
              "  "
            ]
          },
          "metadata": {},
          "execution_count": 10
        }
      ],
      "source": [
        "housing_train_data.head()"
      ]
    },
    {
      "cell_type": "markdown",
      "source": [],
      "metadata": {
        "id": "LwB9oWRpR9Ue"
      },
      "id": "LwB9oWRpR9Ue"
    },
    {
      "cell_type": "code",
      "execution_count": 11,
      "id": "f045a2a7-7b6b-45f0-a520-23c8bcf2b55f",
      "metadata": {
        "id": "f045a2a7-7b6b-45f0-a520-23c8bcf2b55f",
        "colab": {
          "base_uri": "https://localhost:8080/",
          "height": 206
        },
        "outputId": "9e46db02-8c46-484d-a0be-6ab980f379f7"
      },
      "outputs": [
        {
          "output_type": "execute_result",
          "data": {
            "text/plain": [
              "   room  bathroom  kitchen  french_door  backyard  furnished  green_paint  \\\n",
              "0     1         1        1            3         0          0            1   \n",
              "1     5         1        1            2         0          0            0   \n",
              "2     5         1        1            3         0          0            0   \n",
              "3     4         2        2            1         0          1            1   \n",
              "4     5         2        1            1         0          1            1   \n",
              "\n",
              "   solar_power  woodfloor  qlm_security  club_access  price  \n",
              "0            1          0             1            0   5068  \n",
              "1            0          0             1            1   7658  \n",
              "2            1          1             1            1  11318  \n",
              "3            0          0             1            0   8858  \n",
              "4            1          0             0            1  11178  "
            ],
            "text/html": [
              "\n",
              "  <div id=\"df-51aa23e0-67a6-452f-9604-7e553fdb43f7\">\n",
              "    <div class=\"colab-df-container\">\n",
              "      <div>\n",
              "<style scoped>\n",
              "    .dataframe tbody tr th:only-of-type {\n",
              "        vertical-align: middle;\n",
              "    }\n",
              "\n",
              "    .dataframe tbody tr th {\n",
              "        vertical-align: top;\n",
              "    }\n",
              "\n",
              "    .dataframe thead th {\n",
              "        text-align: right;\n",
              "    }\n",
              "</style>\n",
              "<table border=\"1\" class=\"dataframe\">\n",
              "  <thead>\n",
              "    <tr style=\"text-align: right;\">\n",
              "      <th></th>\n",
              "      <th>room</th>\n",
              "      <th>bathroom</th>\n",
              "      <th>kitchen</th>\n",
              "      <th>french_door</th>\n",
              "      <th>backyard</th>\n",
              "      <th>furnished</th>\n",
              "      <th>green_paint</th>\n",
              "      <th>solar_power</th>\n",
              "      <th>woodfloor</th>\n",
              "      <th>qlm_security</th>\n",
              "      <th>club_access</th>\n",
              "      <th>price</th>\n",
              "    </tr>\n",
              "  </thead>\n",
              "  <tbody>\n",
              "    <tr>\n",
              "      <th>0</th>\n",
              "      <td>1</td>\n",
              "      <td>1</td>\n",
              "      <td>1</td>\n",
              "      <td>3</td>\n",
              "      <td>0</td>\n",
              "      <td>0</td>\n",
              "      <td>1</td>\n",
              "      <td>1</td>\n",
              "      <td>0</td>\n",
              "      <td>1</td>\n",
              "      <td>0</td>\n",
              "      <td>5068</td>\n",
              "    </tr>\n",
              "    <tr>\n",
              "      <th>1</th>\n",
              "      <td>5</td>\n",
              "      <td>1</td>\n",
              "      <td>1</td>\n",
              "      <td>2</td>\n",
              "      <td>0</td>\n",
              "      <td>0</td>\n",
              "      <td>0</td>\n",
              "      <td>0</td>\n",
              "      <td>0</td>\n",
              "      <td>1</td>\n",
              "      <td>1</td>\n",
              "      <td>7658</td>\n",
              "    </tr>\n",
              "    <tr>\n",
              "      <th>2</th>\n",
              "      <td>5</td>\n",
              "      <td>1</td>\n",
              "      <td>1</td>\n",
              "      <td>3</td>\n",
              "      <td>0</td>\n",
              "      <td>0</td>\n",
              "      <td>0</td>\n",
              "      <td>1</td>\n",
              "      <td>1</td>\n",
              "      <td>1</td>\n",
              "      <td>1</td>\n",
              "      <td>11318</td>\n",
              "    </tr>\n",
              "    <tr>\n",
              "      <th>3</th>\n",
              "      <td>4</td>\n",
              "      <td>2</td>\n",
              "      <td>2</td>\n",
              "      <td>1</td>\n",
              "      <td>0</td>\n",
              "      <td>1</td>\n",
              "      <td>1</td>\n",
              "      <td>0</td>\n",
              "      <td>0</td>\n",
              "      <td>1</td>\n",
              "      <td>0</td>\n",
              "      <td>8858</td>\n",
              "    </tr>\n",
              "    <tr>\n",
              "      <th>4</th>\n",
              "      <td>5</td>\n",
              "      <td>2</td>\n",
              "      <td>1</td>\n",
              "      <td>1</td>\n",
              "      <td>0</td>\n",
              "      <td>1</td>\n",
              "      <td>1</td>\n",
              "      <td>1</td>\n",
              "      <td>0</td>\n",
              "      <td>0</td>\n",
              "      <td>1</td>\n",
              "      <td>11178</td>\n",
              "    </tr>\n",
              "  </tbody>\n",
              "</table>\n",
              "</div>\n",
              "      <button class=\"colab-df-convert\" onclick=\"convertToInteractive('df-51aa23e0-67a6-452f-9604-7e553fdb43f7')\"\n",
              "              title=\"Convert this dataframe to an interactive table.\"\n",
              "              style=\"display:none;\">\n",
              "        \n",
              "  <svg xmlns=\"http://www.w3.org/2000/svg\" height=\"24px\"viewBox=\"0 0 24 24\"\n",
              "       width=\"24px\">\n",
              "    <path d=\"M0 0h24v24H0V0z\" fill=\"none\"/>\n",
              "    <path d=\"M18.56 5.44l.94 2.06.94-2.06 2.06-.94-2.06-.94-.94-2.06-.94 2.06-2.06.94zm-11 1L8.5 8.5l.94-2.06 2.06-.94-2.06-.94L8.5 2.5l-.94 2.06-2.06.94zm10 10l.94 2.06.94-2.06 2.06-.94-2.06-.94-.94-2.06-.94 2.06-2.06.94z\"/><path d=\"M17.41 7.96l-1.37-1.37c-.4-.4-.92-.59-1.43-.59-.52 0-1.04.2-1.43.59L10.3 9.45l-7.72 7.72c-.78.78-.78 2.05 0 2.83L4 21.41c.39.39.9.59 1.41.59.51 0 1.02-.2 1.41-.59l7.78-7.78 2.81-2.81c.8-.78.8-2.07 0-2.86zM5.41 20L4 18.59l7.72-7.72 1.47 1.35L5.41 20z\"/>\n",
              "  </svg>\n",
              "      </button>\n",
              "      \n",
              "  <style>\n",
              "    .colab-df-container {\n",
              "      display:flex;\n",
              "      flex-wrap:wrap;\n",
              "      gap: 12px;\n",
              "    }\n",
              "\n",
              "    .colab-df-convert {\n",
              "      background-color: #E8F0FE;\n",
              "      border: none;\n",
              "      border-radius: 50%;\n",
              "      cursor: pointer;\n",
              "      display: none;\n",
              "      fill: #1967D2;\n",
              "      height: 32px;\n",
              "      padding: 0 0 0 0;\n",
              "      width: 32px;\n",
              "    }\n",
              "\n",
              "    .colab-df-convert:hover {\n",
              "      background-color: #E2EBFA;\n",
              "      box-shadow: 0px 1px 2px rgba(60, 64, 67, 0.3), 0px 1px 3px 1px rgba(60, 64, 67, 0.15);\n",
              "      fill: #174EA6;\n",
              "    }\n",
              "\n",
              "    [theme=dark] .colab-df-convert {\n",
              "      background-color: #3B4455;\n",
              "      fill: #D2E3FC;\n",
              "    }\n",
              "\n",
              "    [theme=dark] .colab-df-convert:hover {\n",
              "      background-color: #434B5C;\n",
              "      box-shadow: 0px 1px 3px 1px rgba(0, 0, 0, 0.15);\n",
              "      filter: drop-shadow(0px 1px 2px rgba(0, 0, 0, 0.3));\n",
              "      fill: #FFFFFF;\n",
              "    }\n",
              "  </style>\n",
              "\n",
              "      <script>\n",
              "        const buttonEl =\n",
              "          document.querySelector('#df-51aa23e0-67a6-452f-9604-7e553fdb43f7 button.colab-df-convert');\n",
              "        buttonEl.style.display =\n",
              "          google.colab.kernel.accessAllowed ? 'block' : 'none';\n",
              "\n",
              "        async function convertToInteractive(key) {\n",
              "          const element = document.querySelector('#df-51aa23e0-67a6-452f-9604-7e553fdb43f7');\n",
              "          const dataTable =\n",
              "            await google.colab.kernel.invokeFunction('convertToInteractive',\n",
              "                                                     [key], {});\n",
              "          if (!dataTable) return;\n",
              "\n",
              "          const docLinkHtml = 'Like what you see? Visit the ' +\n",
              "            '<a target=\"_blank\" href=https://colab.research.google.com/notebooks/data_table.ipynb>data table notebook</a>'\n",
              "            + ' to learn more about interactive tables.';\n",
              "          element.innerHTML = '';\n",
              "          dataTable['output_type'] = 'display_data';\n",
              "          await google.colab.output.renderOutput(dataTable, element);\n",
              "          const docLink = document.createElement('div');\n",
              "          docLink.innerHTML = docLinkHtml;\n",
              "          element.appendChild(docLink);\n",
              "        }\n",
              "      </script>\n",
              "    </div>\n",
              "  </div>\n",
              "  "
            ]
          },
          "metadata": {},
          "execution_count": 11
        }
      ],
      "source": [
        "housing_test_data.head()"
      ]
    },
    {
      "cell_type": "markdown",
      "source": [],
      "metadata": {
        "id": "FbTlztmGcJiH"
      },
      "id": "FbTlztmGcJiH"
    },
    {
      "cell_type": "markdown",
      "source": [
        "### Handling Duplicates in the dataset"
      ],
      "metadata": {
        "id": "o51MmVJHcJuH"
      },
      "id": "o51MmVJHcJuH"
    },
    {
      "cell_type": "code",
      "source": [
        "housing_train_data.duplicated().sum()"
      ],
      "metadata": {
        "colab": {
          "base_uri": "https://localhost:8080/",
          "height": 0
        },
        "id": "JkC0seXQ7DE7",
        "outputId": "c85c31a2-f60e-4217-e7a0-835813c01682"
      },
      "id": "JkC0seXQ7DE7",
      "execution_count": 12,
      "outputs": [
        {
          "output_type": "execute_result",
          "data": {
            "text/plain": [
              "488"
            ]
          },
          "metadata": {},
          "execution_count": 12
        }
      ]
    },
    {
      "cell_type": "markdown",
      "source": [],
      "metadata": {
        "id": "yH34Z3_ScTIi"
      },
      "id": "yH34Z3_ScTIi"
    },
    {
      "cell_type": "code",
      "source": [
        "housing_train_data.drop_duplicates(inplace=True)"
      ],
      "metadata": {
        "id": "d8aXBjpU7bNy"
      },
      "id": "d8aXBjpU7bNy",
      "execution_count": 13,
      "outputs": []
    },
    {
      "cell_type": "code",
      "source": [
        "housing_test_data.duplicated().sum()"
      ],
      "metadata": {
        "colab": {
          "base_uri": "https://localhost:8080/",
          "height": 0
        },
        "id": "iGPZxEE67OYw",
        "outputId": "bb8c7044-54b4-444d-8561-7efa468883d7"
      },
      "id": "iGPZxEE67OYw",
      "execution_count": 14,
      "outputs": [
        {
          "output_type": "execute_result",
          "data": {
            "text/plain": [
              "70"
            ]
          },
          "metadata": {},
          "execution_count": 14
        }
      ]
    },
    {
      "cell_type": "code",
      "source": [
        "housing_test_data.drop_duplicates(inplace=True)"
      ],
      "metadata": {
        "id": "wgMkvDykEk_w"
      },
      "id": "wgMkvDykEk_w",
      "execution_count": 15,
      "outputs": []
    },
    {
      "cell_type": "markdown",
      "source": [],
      "metadata": {
        "id": "v8qBCe_Fc1Zm"
      },
      "id": "v8qBCe_Fc1Zm"
    },
    {
      "cell_type": "markdown",
      "source": [
        "### Summary statistics of both datasets"
      ],
      "metadata": {
        "id": "LLoaQ6lzf4TV"
      },
      "id": "LLoaQ6lzf4TV"
    },
    {
      "cell_type": "markdown",
      "source": [
        "Summary of the dataset."
      ],
      "metadata": {
        "id": "OMhXDgOvg-Z5"
      },
      "id": "OMhXDgOvg-Z5"
    },
    {
      "cell_type": "code",
      "execution_count": 16,
      "id": "814ca25c-5aee-45c4-b4dc-63b6e903ed9b",
      "metadata": {
        "id": "814ca25c-5aee-45c4-b4dc-63b6e903ed9b",
        "colab": {
          "base_uri": "https://localhost:8080/",
          "height": 426
        },
        "outputId": "f09e137e-6c9b-4c37-c5af-ca08f48a01dc"
      },
      "outputs": [
        {
          "output_type": "execute_result",
          "data": {
            "text/plain": [
              "               count         mean          std     min     25%     50%  \\\n",
              "room          2512.0     2.991242     1.424568     1.0     2.0     3.0   \n",
              "bathroom      2512.0     1.495223     0.500077     1.0     1.0     1.0   \n",
              "kitchen       2512.0     1.510748     0.499984     1.0     1.0     2.0   \n",
              "french_door   2512.0     2.001194     0.813809     1.0     1.0     2.0   \n",
              "backyard      2512.0     0.491640     0.500030     0.0     0.0     0.0   \n",
              "furnished     2512.0     0.492834     0.500048     0.0     0.0     0.0   \n",
              "green_paint   2512.0     0.490446     0.500008     0.0     0.0     0.0   \n",
              "solar_power   2512.0     0.493232     0.500054     0.0     0.0     0.0   \n",
              "woodfloor     2512.0     0.508758     0.500023     0.0     0.0     1.0   \n",
              "qlm_security  2512.0     0.486863     0.499927     0.0     0.0     0.0   \n",
              "club_access   2512.0     0.501194     0.500098     0.0     0.0     1.0   \n",
              "price         2512.0  8609.211783  2222.006893  2235.0  7005.0  8615.0   \n",
              "\n",
              "                  75%      max  \n",
              "room              4.0      5.0  \n",
              "bathroom          2.0      2.0  \n",
              "kitchen           2.0      2.0  \n",
              "french_door       3.0      3.0  \n",
              "backyard          1.0      1.0  \n",
              "furnished         1.0      1.0  \n",
              "green_paint       1.0      1.0  \n",
              "solar_power       1.0      1.0  \n",
              "woodfloor         1.0      1.0  \n",
              "qlm_security      1.0      1.0  \n",
              "club_access       1.0      1.0  \n",
              "price         10197.5  15035.0  "
            ],
            "text/html": [
              "\n",
              "  <div id=\"df-bf574948-cca5-47e3-811a-d5f32c55358c\">\n",
              "    <div class=\"colab-df-container\">\n",
              "      <div>\n",
              "<style scoped>\n",
              "    .dataframe tbody tr th:only-of-type {\n",
              "        vertical-align: middle;\n",
              "    }\n",
              "\n",
              "    .dataframe tbody tr th {\n",
              "        vertical-align: top;\n",
              "    }\n",
              "\n",
              "    .dataframe thead th {\n",
              "        text-align: right;\n",
              "    }\n",
              "</style>\n",
              "<table border=\"1\" class=\"dataframe\">\n",
              "  <thead>\n",
              "    <tr style=\"text-align: right;\">\n",
              "      <th></th>\n",
              "      <th>count</th>\n",
              "      <th>mean</th>\n",
              "      <th>std</th>\n",
              "      <th>min</th>\n",
              "      <th>25%</th>\n",
              "      <th>50%</th>\n",
              "      <th>75%</th>\n",
              "      <th>max</th>\n",
              "    </tr>\n",
              "  </thead>\n",
              "  <tbody>\n",
              "    <tr>\n",
              "      <th>room</th>\n",
              "      <td>2512.0</td>\n",
              "      <td>2.991242</td>\n",
              "      <td>1.424568</td>\n",
              "      <td>1.0</td>\n",
              "      <td>2.0</td>\n",
              "      <td>3.0</td>\n",
              "      <td>4.0</td>\n",
              "      <td>5.0</td>\n",
              "    </tr>\n",
              "    <tr>\n",
              "      <th>bathroom</th>\n",
              "      <td>2512.0</td>\n",
              "      <td>1.495223</td>\n",
              "      <td>0.500077</td>\n",
              "      <td>1.0</td>\n",
              "      <td>1.0</td>\n",
              "      <td>1.0</td>\n",
              "      <td>2.0</td>\n",
              "      <td>2.0</td>\n",
              "    </tr>\n",
              "    <tr>\n",
              "      <th>kitchen</th>\n",
              "      <td>2512.0</td>\n",
              "      <td>1.510748</td>\n",
              "      <td>0.499984</td>\n",
              "      <td>1.0</td>\n",
              "      <td>1.0</td>\n",
              "      <td>2.0</td>\n",
              "      <td>2.0</td>\n",
              "      <td>2.0</td>\n",
              "    </tr>\n",
              "    <tr>\n",
              "      <th>french_door</th>\n",
              "      <td>2512.0</td>\n",
              "      <td>2.001194</td>\n",
              "      <td>0.813809</td>\n",
              "      <td>1.0</td>\n",
              "      <td>1.0</td>\n",
              "      <td>2.0</td>\n",
              "      <td>3.0</td>\n",
              "      <td>3.0</td>\n",
              "    </tr>\n",
              "    <tr>\n",
              "      <th>backyard</th>\n",
              "      <td>2512.0</td>\n",
              "      <td>0.491640</td>\n",
              "      <td>0.500030</td>\n",
              "      <td>0.0</td>\n",
              "      <td>0.0</td>\n",
              "      <td>0.0</td>\n",
              "      <td>1.0</td>\n",
              "      <td>1.0</td>\n",
              "    </tr>\n",
              "    <tr>\n",
              "      <th>furnished</th>\n",
              "      <td>2512.0</td>\n",
              "      <td>0.492834</td>\n",
              "      <td>0.500048</td>\n",
              "      <td>0.0</td>\n",
              "      <td>0.0</td>\n",
              "      <td>0.0</td>\n",
              "      <td>1.0</td>\n",
              "      <td>1.0</td>\n",
              "    </tr>\n",
              "    <tr>\n",
              "      <th>green_paint</th>\n",
              "      <td>2512.0</td>\n",
              "      <td>0.490446</td>\n",
              "      <td>0.500008</td>\n",
              "      <td>0.0</td>\n",
              "      <td>0.0</td>\n",
              "      <td>0.0</td>\n",
              "      <td>1.0</td>\n",
              "      <td>1.0</td>\n",
              "    </tr>\n",
              "    <tr>\n",
              "      <th>solar_power</th>\n",
              "      <td>2512.0</td>\n",
              "      <td>0.493232</td>\n",
              "      <td>0.500054</td>\n",
              "      <td>0.0</td>\n",
              "      <td>0.0</td>\n",
              "      <td>0.0</td>\n",
              "      <td>1.0</td>\n",
              "      <td>1.0</td>\n",
              "    </tr>\n",
              "    <tr>\n",
              "      <th>woodfloor</th>\n",
              "      <td>2512.0</td>\n",
              "      <td>0.508758</td>\n",
              "      <td>0.500023</td>\n",
              "      <td>0.0</td>\n",
              "      <td>0.0</td>\n",
              "      <td>1.0</td>\n",
              "      <td>1.0</td>\n",
              "      <td>1.0</td>\n",
              "    </tr>\n",
              "    <tr>\n",
              "      <th>qlm_security</th>\n",
              "      <td>2512.0</td>\n",
              "      <td>0.486863</td>\n",
              "      <td>0.499927</td>\n",
              "      <td>0.0</td>\n",
              "      <td>0.0</td>\n",
              "      <td>0.0</td>\n",
              "      <td>1.0</td>\n",
              "      <td>1.0</td>\n",
              "    </tr>\n",
              "    <tr>\n",
              "      <th>club_access</th>\n",
              "      <td>2512.0</td>\n",
              "      <td>0.501194</td>\n",
              "      <td>0.500098</td>\n",
              "      <td>0.0</td>\n",
              "      <td>0.0</td>\n",
              "      <td>1.0</td>\n",
              "      <td>1.0</td>\n",
              "      <td>1.0</td>\n",
              "    </tr>\n",
              "    <tr>\n",
              "      <th>price</th>\n",
              "      <td>2512.0</td>\n",
              "      <td>8609.211783</td>\n",
              "      <td>2222.006893</td>\n",
              "      <td>2235.0</td>\n",
              "      <td>7005.0</td>\n",
              "      <td>8615.0</td>\n",
              "      <td>10197.5</td>\n",
              "      <td>15035.0</td>\n",
              "    </tr>\n",
              "  </tbody>\n",
              "</table>\n",
              "</div>\n",
              "      <button class=\"colab-df-convert\" onclick=\"convertToInteractive('df-bf574948-cca5-47e3-811a-d5f32c55358c')\"\n",
              "              title=\"Convert this dataframe to an interactive table.\"\n",
              "              style=\"display:none;\">\n",
              "        \n",
              "  <svg xmlns=\"http://www.w3.org/2000/svg\" height=\"24px\"viewBox=\"0 0 24 24\"\n",
              "       width=\"24px\">\n",
              "    <path d=\"M0 0h24v24H0V0z\" fill=\"none\"/>\n",
              "    <path d=\"M18.56 5.44l.94 2.06.94-2.06 2.06-.94-2.06-.94-.94-2.06-.94 2.06-2.06.94zm-11 1L8.5 8.5l.94-2.06 2.06-.94-2.06-.94L8.5 2.5l-.94 2.06-2.06.94zm10 10l.94 2.06.94-2.06 2.06-.94-2.06-.94-.94-2.06-.94 2.06-2.06.94z\"/><path d=\"M17.41 7.96l-1.37-1.37c-.4-.4-.92-.59-1.43-.59-.52 0-1.04.2-1.43.59L10.3 9.45l-7.72 7.72c-.78.78-.78 2.05 0 2.83L4 21.41c.39.39.9.59 1.41.59.51 0 1.02-.2 1.41-.59l7.78-7.78 2.81-2.81c.8-.78.8-2.07 0-2.86zM5.41 20L4 18.59l7.72-7.72 1.47 1.35L5.41 20z\"/>\n",
              "  </svg>\n",
              "      </button>\n",
              "      \n",
              "  <style>\n",
              "    .colab-df-container {\n",
              "      display:flex;\n",
              "      flex-wrap:wrap;\n",
              "      gap: 12px;\n",
              "    }\n",
              "\n",
              "    .colab-df-convert {\n",
              "      background-color: #E8F0FE;\n",
              "      border: none;\n",
              "      border-radius: 50%;\n",
              "      cursor: pointer;\n",
              "      display: none;\n",
              "      fill: #1967D2;\n",
              "      height: 32px;\n",
              "      padding: 0 0 0 0;\n",
              "      width: 32px;\n",
              "    }\n",
              "\n",
              "    .colab-df-convert:hover {\n",
              "      background-color: #E2EBFA;\n",
              "      box-shadow: 0px 1px 2px rgba(60, 64, 67, 0.3), 0px 1px 3px 1px rgba(60, 64, 67, 0.15);\n",
              "      fill: #174EA6;\n",
              "    }\n",
              "\n",
              "    [theme=dark] .colab-df-convert {\n",
              "      background-color: #3B4455;\n",
              "      fill: #D2E3FC;\n",
              "    }\n",
              "\n",
              "    [theme=dark] .colab-df-convert:hover {\n",
              "      background-color: #434B5C;\n",
              "      box-shadow: 0px 1px 3px 1px rgba(0, 0, 0, 0.15);\n",
              "      filter: drop-shadow(0px 1px 2px rgba(0, 0, 0, 0.3));\n",
              "      fill: #FFFFFF;\n",
              "    }\n",
              "  </style>\n",
              "\n",
              "      <script>\n",
              "        const buttonEl =\n",
              "          document.querySelector('#df-bf574948-cca5-47e3-811a-d5f32c55358c button.colab-df-convert');\n",
              "        buttonEl.style.display =\n",
              "          google.colab.kernel.accessAllowed ? 'block' : 'none';\n",
              "\n",
              "        async function convertToInteractive(key) {\n",
              "          const element = document.querySelector('#df-bf574948-cca5-47e3-811a-d5f32c55358c');\n",
              "          const dataTable =\n",
              "            await google.colab.kernel.invokeFunction('convertToInteractive',\n",
              "                                                     [key], {});\n",
              "          if (!dataTable) return;\n",
              "\n",
              "          const docLinkHtml = 'Like what you see? Visit the ' +\n",
              "            '<a target=\"_blank\" href=https://colab.research.google.com/notebooks/data_table.ipynb>data table notebook</a>'\n",
              "            + ' to learn more about interactive tables.';\n",
              "          element.innerHTML = '';\n",
              "          dataTable['output_type'] = 'display_data';\n",
              "          await google.colab.output.renderOutput(dataTable, element);\n",
              "          const docLink = document.createElement('div');\n",
              "          docLink.innerHTML = docLinkHtml;\n",
              "          element.appendChild(docLink);\n",
              "        }\n",
              "      </script>\n",
              "    </div>\n",
              "  </div>\n",
              "  "
            ]
          },
          "metadata": {},
          "execution_count": 16
        }
      ],
      "source": [
        "housing_train_data.describe().T"
      ]
    },
    {
      "cell_type": "markdown",
      "source": [
        "Check the data types of the columns for the dataset."
      ],
      "metadata": {
        "id": "BghSd50Qghz_"
      },
      "id": "BghSd50Qghz_"
    },
    {
      "cell_type": "code",
      "source": [
        "housing_train_data.info()"
      ],
      "metadata": {
        "colab": {
          "base_uri": "https://localhost:8080/",
          "height": 0
        },
        "id": "cE3jYfsA8DGF",
        "outputId": "94f222a3-8b58-4c25-ff14-7f757d743063"
      },
      "id": "cE3jYfsA8DGF",
      "execution_count": 17,
      "outputs": [
        {
          "output_type": "stream",
          "name": "stdout",
          "text": [
            "<class 'pandas.core.frame.DataFrame'>\n",
            "Int64Index: 2512 entries, 0 to 2998\n",
            "Data columns (total 12 columns):\n",
            " #   Column        Non-Null Count  Dtype\n",
            "---  ------        --------------  -----\n",
            " 0   room          2512 non-null   int64\n",
            " 1   bathroom      2512 non-null   int64\n",
            " 2   kitchen       2512 non-null   int64\n",
            " 3   french_door   2512 non-null   int64\n",
            " 4   backyard      2512 non-null   int64\n",
            " 5   furnished     2512 non-null   int64\n",
            " 6   green_paint   2512 non-null   int64\n",
            " 7   solar_power   2512 non-null   int64\n",
            " 8   woodfloor     2512 non-null   int64\n",
            " 9   qlm_security  2512 non-null   int64\n",
            " 10  club_access   2512 non-null   int64\n",
            " 11  price         2512 non-null   int64\n",
            "dtypes: int64(12)\n",
            "memory usage: 255.1 KB\n"
          ]
        }
      ]
    },
    {
      "cell_type": "code",
      "source": [
        "housing_train_data['price'].describe()"
      ],
      "metadata": {
        "colab": {
          "base_uri": "https://localhost:8080/",
          "height": 0
        },
        "id": "_NTfntA48Ugj",
        "outputId": "43c66214-40d8-4861-cf59-5824d05d1208"
      },
      "id": "_NTfntA48Ugj",
      "execution_count": 18,
      "outputs": [
        {
          "output_type": "execute_result",
          "data": {
            "text/plain": [
              "count     2512.000000\n",
              "mean      8609.211783\n",
              "std       2222.006893\n",
              "min       2235.000000\n",
              "25%       7005.000000\n",
              "50%       8615.000000\n",
              "75%      10197.500000\n",
              "max      15035.000000\n",
              "Name: price, dtype: float64"
            ]
          },
          "metadata": {},
          "execution_count": 18
        }
      ]
    },
    {
      "cell_type": "code",
      "source": [
        "#exp.describe()"
      ],
      "metadata": {
        "id": "xIojZR5X8aws"
      },
      "id": "xIojZR5X8aws",
      "execution_count": 19,
      "outputs": []
    },
    {
      "cell_type": "markdown",
      "source": [
        "Summary of the test dataset."
      ],
      "metadata": {
        "id": "uEHxs83Gg2aW"
      },
      "id": "uEHxs83Gg2aW"
    },
    {
      "cell_type": "code",
      "execution_count": 20,
      "id": "6b97e6ac-fa8e-4b60-b168-434b28ae74c9",
      "metadata": {
        "id": "6b97e6ac-fa8e-4b60-b168-434b28ae74c9",
        "colab": {
          "base_uri": "https://localhost:8080/",
          "height": 426
        },
        "outputId": "428ef5f3-b12a-4044-a3ad-9b3a7790478d"
      },
      "outputs": [
        {
          "output_type": "execute_result",
          "data": {
            "text/plain": [
              "              count         mean          std     min     25%     50%  \\\n",
              "room          929.0     3.001076     1.413070     1.0     2.0     3.0   \n",
              "bathroom      929.0     1.502691     0.500262     1.0     1.0     2.0   \n",
              "kitchen       929.0     1.496233     0.500255     1.0     1.0     1.0   \n",
              "french_door   929.0     1.959096     0.811054     1.0     1.0     2.0   \n",
              "backyard      929.0     0.504844     0.500246     0.0     0.0     1.0   \n",
              "furnished     929.0     0.475780     0.499682     0.0     0.0     0.0   \n",
              "green_paint   929.0     0.519914     0.499872     0.0     0.0     1.0   \n",
              "solar_power   929.0     0.491927     0.500204     0.0     0.0     0.0   \n",
              "woodfloor     929.0     0.506997     0.500220     0.0     0.0     1.0   \n",
              "qlm_security  929.0     0.500538     0.500269     0.0     0.0     1.0   \n",
              "club_access   929.0     0.502691     0.500262     0.0     0.0     1.0   \n",
              "price         929.0  8602.897740  2230.251555  2688.0  7038.0  8618.0   \n",
              "\n",
              "                  75%      max  \n",
              "room              4.0      5.0  \n",
              "bathroom          2.0      2.0  \n",
              "kitchen           2.0      2.0  \n",
              "french_door       3.0      3.0  \n",
              "backyard          1.0      1.0  \n",
              "furnished         1.0      1.0  \n",
              "green_paint       1.0      1.0  \n",
              "solar_power       1.0      1.0  \n",
              "woodfloor         1.0      1.0  \n",
              "qlm_security      1.0      1.0  \n",
              "club_access       1.0      1.0  \n",
              "price         10148.0  14318.0  "
            ],
            "text/html": [
              "\n",
              "  <div id=\"df-d7cd1b5d-037e-45f6-991e-3194afa8f2a6\">\n",
              "    <div class=\"colab-df-container\">\n",
              "      <div>\n",
              "<style scoped>\n",
              "    .dataframe tbody tr th:only-of-type {\n",
              "        vertical-align: middle;\n",
              "    }\n",
              "\n",
              "    .dataframe tbody tr th {\n",
              "        vertical-align: top;\n",
              "    }\n",
              "\n",
              "    .dataframe thead th {\n",
              "        text-align: right;\n",
              "    }\n",
              "</style>\n",
              "<table border=\"1\" class=\"dataframe\">\n",
              "  <thead>\n",
              "    <tr style=\"text-align: right;\">\n",
              "      <th></th>\n",
              "      <th>count</th>\n",
              "      <th>mean</th>\n",
              "      <th>std</th>\n",
              "      <th>min</th>\n",
              "      <th>25%</th>\n",
              "      <th>50%</th>\n",
              "      <th>75%</th>\n",
              "      <th>max</th>\n",
              "    </tr>\n",
              "  </thead>\n",
              "  <tbody>\n",
              "    <tr>\n",
              "      <th>room</th>\n",
              "      <td>929.0</td>\n",
              "      <td>3.001076</td>\n",
              "      <td>1.413070</td>\n",
              "      <td>1.0</td>\n",
              "      <td>2.0</td>\n",
              "      <td>3.0</td>\n",
              "      <td>4.0</td>\n",
              "      <td>5.0</td>\n",
              "    </tr>\n",
              "    <tr>\n",
              "      <th>bathroom</th>\n",
              "      <td>929.0</td>\n",
              "      <td>1.502691</td>\n",
              "      <td>0.500262</td>\n",
              "      <td>1.0</td>\n",
              "      <td>1.0</td>\n",
              "      <td>2.0</td>\n",
              "      <td>2.0</td>\n",
              "      <td>2.0</td>\n",
              "    </tr>\n",
              "    <tr>\n",
              "      <th>kitchen</th>\n",
              "      <td>929.0</td>\n",
              "      <td>1.496233</td>\n",
              "      <td>0.500255</td>\n",
              "      <td>1.0</td>\n",
              "      <td>1.0</td>\n",
              "      <td>1.0</td>\n",
              "      <td>2.0</td>\n",
              "      <td>2.0</td>\n",
              "    </tr>\n",
              "    <tr>\n",
              "      <th>french_door</th>\n",
              "      <td>929.0</td>\n",
              "      <td>1.959096</td>\n",
              "      <td>0.811054</td>\n",
              "      <td>1.0</td>\n",
              "      <td>1.0</td>\n",
              "      <td>2.0</td>\n",
              "      <td>3.0</td>\n",
              "      <td>3.0</td>\n",
              "    </tr>\n",
              "    <tr>\n",
              "      <th>backyard</th>\n",
              "      <td>929.0</td>\n",
              "      <td>0.504844</td>\n",
              "      <td>0.500246</td>\n",
              "      <td>0.0</td>\n",
              "      <td>0.0</td>\n",
              "      <td>1.0</td>\n",
              "      <td>1.0</td>\n",
              "      <td>1.0</td>\n",
              "    </tr>\n",
              "    <tr>\n",
              "      <th>furnished</th>\n",
              "      <td>929.0</td>\n",
              "      <td>0.475780</td>\n",
              "      <td>0.499682</td>\n",
              "      <td>0.0</td>\n",
              "      <td>0.0</td>\n",
              "      <td>0.0</td>\n",
              "      <td>1.0</td>\n",
              "      <td>1.0</td>\n",
              "    </tr>\n",
              "    <tr>\n",
              "      <th>green_paint</th>\n",
              "      <td>929.0</td>\n",
              "      <td>0.519914</td>\n",
              "      <td>0.499872</td>\n",
              "      <td>0.0</td>\n",
              "      <td>0.0</td>\n",
              "      <td>1.0</td>\n",
              "      <td>1.0</td>\n",
              "      <td>1.0</td>\n",
              "    </tr>\n",
              "    <tr>\n",
              "      <th>solar_power</th>\n",
              "      <td>929.0</td>\n",
              "      <td>0.491927</td>\n",
              "      <td>0.500204</td>\n",
              "      <td>0.0</td>\n",
              "      <td>0.0</td>\n",
              "      <td>0.0</td>\n",
              "      <td>1.0</td>\n",
              "      <td>1.0</td>\n",
              "    </tr>\n",
              "    <tr>\n",
              "      <th>woodfloor</th>\n",
              "      <td>929.0</td>\n",
              "      <td>0.506997</td>\n",
              "      <td>0.500220</td>\n",
              "      <td>0.0</td>\n",
              "      <td>0.0</td>\n",
              "      <td>1.0</td>\n",
              "      <td>1.0</td>\n",
              "      <td>1.0</td>\n",
              "    </tr>\n",
              "    <tr>\n",
              "      <th>qlm_security</th>\n",
              "      <td>929.0</td>\n",
              "      <td>0.500538</td>\n",
              "      <td>0.500269</td>\n",
              "      <td>0.0</td>\n",
              "      <td>0.0</td>\n",
              "      <td>1.0</td>\n",
              "      <td>1.0</td>\n",
              "      <td>1.0</td>\n",
              "    </tr>\n",
              "    <tr>\n",
              "      <th>club_access</th>\n",
              "      <td>929.0</td>\n",
              "      <td>0.502691</td>\n",
              "      <td>0.500262</td>\n",
              "      <td>0.0</td>\n",
              "      <td>0.0</td>\n",
              "      <td>1.0</td>\n",
              "      <td>1.0</td>\n",
              "      <td>1.0</td>\n",
              "    </tr>\n",
              "    <tr>\n",
              "      <th>price</th>\n",
              "      <td>929.0</td>\n",
              "      <td>8602.897740</td>\n",
              "      <td>2230.251555</td>\n",
              "      <td>2688.0</td>\n",
              "      <td>7038.0</td>\n",
              "      <td>8618.0</td>\n",
              "      <td>10148.0</td>\n",
              "      <td>14318.0</td>\n",
              "    </tr>\n",
              "  </tbody>\n",
              "</table>\n",
              "</div>\n",
              "      <button class=\"colab-df-convert\" onclick=\"convertToInteractive('df-d7cd1b5d-037e-45f6-991e-3194afa8f2a6')\"\n",
              "              title=\"Convert this dataframe to an interactive table.\"\n",
              "              style=\"display:none;\">\n",
              "        \n",
              "  <svg xmlns=\"http://www.w3.org/2000/svg\" height=\"24px\"viewBox=\"0 0 24 24\"\n",
              "       width=\"24px\">\n",
              "    <path d=\"M0 0h24v24H0V0z\" fill=\"none\"/>\n",
              "    <path d=\"M18.56 5.44l.94 2.06.94-2.06 2.06-.94-2.06-.94-.94-2.06-.94 2.06-2.06.94zm-11 1L8.5 8.5l.94-2.06 2.06-.94-2.06-.94L8.5 2.5l-.94 2.06-2.06.94zm10 10l.94 2.06.94-2.06 2.06-.94-2.06-.94-.94-2.06-.94 2.06-2.06.94z\"/><path d=\"M17.41 7.96l-1.37-1.37c-.4-.4-.92-.59-1.43-.59-.52 0-1.04.2-1.43.59L10.3 9.45l-7.72 7.72c-.78.78-.78 2.05 0 2.83L4 21.41c.39.39.9.59 1.41.59.51 0 1.02-.2 1.41-.59l7.78-7.78 2.81-2.81c.8-.78.8-2.07 0-2.86zM5.41 20L4 18.59l7.72-7.72 1.47 1.35L5.41 20z\"/>\n",
              "  </svg>\n",
              "      </button>\n",
              "      \n",
              "  <style>\n",
              "    .colab-df-container {\n",
              "      display:flex;\n",
              "      flex-wrap:wrap;\n",
              "      gap: 12px;\n",
              "    }\n",
              "\n",
              "    .colab-df-convert {\n",
              "      background-color: #E8F0FE;\n",
              "      border: none;\n",
              "      border-radius: 50%;\n",
              "      cursor: pointer;\n",
              "      display: none;\n",
              "      fill: #1967D2;\n",
              "      height: 32px;\n",
              "      padding: 0 0 0 0;\n",
              "      width: 32px;\n",
              "    }\n",
              "\n",
              "    .colab-df-convert:hover {\n",
              "      background-color: #E2EBFA;\n",
              "      box-shadow: 0px 1px 2px rgba(60, 64, 67, 0.3), 0px 1px 3px 1px rgba(60, 64, 67, 0.15);\n",
              "      fill: #174EA6;\n",
              "    }\n",
              "\n",
              "    [theme=dark] .colab-df-convert {\n",
              "      background-color: #3B4455;\n",
              "      fill: #D2E3FC;\n",
              "    }\n",
              "\n",
              "    [theme=dark] .colab-df-convert:hover {\n",
              "      background-color: #434B5C;\n",
              "      box-shadow: 0px 1px 3px 1px rgba(0, 0, 0, 0.15);\n",
              "      filter: drop-shadow(0px 1px 2px rgba(0, 0, 0, 0.3));\n",
              "      fill: #FFFFFF;\n",
              "    }\n",
              "  </style>\n",
              "\n",
              "      <script>\n",
              "        const buttonEl =\n",
              "          document.querySelector('#df-d7cd1b5d-037e-45f6-991e-3194afa8f2a6 button.colab-df-convert');\n",
              "        buttonEl.style.display =\n",
              "          google.colab.kernel.accessAllowed ? 'block' : 'none';\n",
              "\n",
              "        async function convertToInteractive(key) {\n",
              "          const element = document.querySelector('#df-d7cd1b5d-037e-45f6-991e-3194afa8f2a6');\n",
              "          const dataTable =\n",
              "            await google.colab.kernel.invokeFunction('convertToInteractive',\n",
              "                                                     [key], {});\n",
              "          if (!dataTable) return;\n",
              "\n",
              "          const docLinkHtml = 'Like what you see? Visit the ' +\n",
              "            '<a target=\"_blank\" href=https://colab.research.google.com/notebooks/data_table.ipynb>data table notebook</a>'\n",
              "            + ' to learn more about interactive tables.';\n",
              "          element.innerHTML = '';\n",
              "          dataTable['output_type'] = 'display_data';\n",
              "          await google.colab.output.renderOutput(dataTable, element);\n",
              "          const docLink = document.createElement('div');\n",
              "          docLink.innerHTML = docLinkHtml;\n",
              "          element.appendChild(docLink);\n",
              "        }\n",
              "      </script>\n",
              "    </div>\n",
              "  </div>\n",
              "  "
            ]
          },
          "metadata": {},
          "execution_count": 20
        }
      ],
      "source": [
        "housing_test_data.describe().T"
      ]
    },
    {
      "cell_type": "markdown",
      "source": [
        "### Modeling and Evaluation"
      ],
      "metadata": {
        "id": "-yGiLN08hwAO"
      },
      "id": "-yGiLN08hwAO"
    },
    {
      "cell_type": "markdown",
      "source": [
        "### Split Data"
      ],
      "metadata": {
        "id": "f64tEMuchnA8"
      },
      "id": "f64tEMuchnA8"
    },
    {
      "cell_type": "code",
      "execution_count": 21,
      "id": "efbb7d11-7534-452c-9d78-26f9cca93df9",
      "metadata": {
        "id": "efbb7d11-7534-452c-9d78-26f9cca93df9"
      },
      "outputs": [],
      "source": [
        "train_X = housing_train_data.drop('price', axis=1)\n",
        "test_X = housing_test_data.drop('price', axis=1)\n",
        "train_Y = housing_train_data['price']\n",
        "test_Y = housing_test_data['price']"
      ]
    },
    {
      "cell_type": "code",
      "source": [
        "# from sklearn.model_selection import KFold\n",
        "# kf = KFold(n_splits=4)\n",
        "# mae_train = []\n",
        "# mae_test = []\n",
        "# for train_index, test_index in kf.split(housing_train_data):\n",
        "    \n",
        "#    train_X, test_X = housing_train_data.iloc[train_index], housing_train_data.iloc[test_index]\n",
        "#    train_Y, test_Y = housing_test_data.iloc[train_index], housing_test_data.iloc[test_index]"
      ],
      "metadata": {
        "id": "DxNCxJSbyYSe"
      },
      "id": "DxNCxJSbyYSe",
      "execution_count": 22,
      "outputs": []
    },
    {
      "cell_type": "code",
      "execution_count": 23,
      "id": "50db2d6d-48a8-4129-8393-43edd87e2c48",
      "metadata": {
        "id": "50db2d6d-48a8-4129-8393-43edd87e2c48",
        "colab": {
          "base_uri": "https://localhost:8080/",
          "height": 206
        },
        "outputId": "f405b775-711e-4d87-b152-95e7c1b78a0b"
      },
      "outputs": [
        {
          "output_type": "execute_result",
          "data": {
            "text/plain": [
              "   room  bathroom  kitchen  french_door  backyard  furnished  green_paint  \\\n",
              "0     3         1        2            1         1          0            1   \n",
              "1     5         2        2            2         1          0            0   \n",
              "3     1         2        1            2         0          0            0   \n",
              "4     2         1        2            3         1          1            0   \n",
              "5     5         1        2            1         0          0            1   \n",
              "\n",
              "   solar_power  woodfloor  qlm_security  club_access  \n",
              "0            0          0             1            1  \n",
              "1            0          0             1            1  \n",
              "3            0          1             1            0  \n",
              "4            0          1             1            0  \n",
              "5            0          1             0            0  "
            ],
            "text/html": [
              "\n",
              "  <div id=\"df-baa353f3-1b24-4ccf-bb57-300e7cda5824\">\n",
              "    <div class=\"colab-df-container\">\n",
              "      <div>\n",
              "<style scoped>\n",
              "    .dataframe tbody tr th:only-of-type {\n",
              "        vertical-align: middle;\n",
              "    }\n",
              "\n",
              "    .dataframe tbody tr th {\n",
              "        vertical-align: top;\n",
              "    }\n",
              "\n",
              "    .dataframe thead th {\n",
              "        text-align: right;\n",
              "    }\n",
              "</style>\n",
              "<table border=\"1\" class=\"dataframe\">\n",
              "  <thead>\n",
              "    <tr style=\"text-align: right;\">\n",
              "      <th></th>\n",
              "      <th>room</th>\n",
              "      <th>bathroom</th>\n",
              "      <th>kitchen</th>\n",
              "      <th>french_door</th>\n",
              "      <th>backyard</th>\n",
              "      <th>furnished</th>\n",
              "      <th>green_paint</th>\n",
              "      <th>solar_power</th>\n",
              "      <th>woodfloor</th>\n",
              "      <th>qlm_security</th>\n",
              "      <th>club_access</th>\n",
              "    </tr>\n",
              "  </thead>\n",
              "  <tbody>\n",
              "    <tr>\n",
              "      <th>0</th>\n",
              "      <td>3</td>\n",
              "      <td>1</td>\n",
              "      <td>2</td>\n",
              "      <td>1</td>\n",
              "      <td>1</td>\n",
              "      <td>0</td>\n",
              "      <td>1</td>\n",
              "      <td>0</td>\n",
              "      <td>0</td>\n",
              "      <td>1</td>\n",
              "      <td>1</td>\n",
              "    </tr>\n",
              "    <tr>\n",
              "      <th>1</th>\n",
              "      <td>5</td>\n",
              "      <td>2</td>\n",
              "      <td>2</td>\n",
              "      <td>2</td>\n",
              "      <td>1</td>\n",
              "      <td>0</td>\n",
              "      <td>0</td>\n",
              "      <td>0</td>\n",
              "      <td>0</td>\n",
              "      <td>1</td>\n",
              "      <td>1</td>\n",
              "    </tr>\n",
              "    <tr>\n",
              "      <th>3</th>\n",
              "      <td>1</td>\n",
              "      <td>2</td>\n",
              "      <td>1</td>\n",
              "      <td>2</td>\n",
              "      <td>0</td>\n",
              "      <td>0</td>\n",
              "      <td>0</td>\n",
              "      <td>0</td>\n",
              "      <td>1</td>\n",
              "      <td>1</td>\n",
              "      <td>0</td>\n",
              "    </tr>\n",
              "    <tr>\n",
              "      <th>4</th>\n",
              "      <td>2</td>\n",
              "      <td>1</td>\n",
              "      <td>2</td>\n",
              "      <td>3</td>\n",
              "      <td>1</td>\n",
              "      <td>1</td>\n",
              "      <td>0</td>\n",
              "      <td>0</td>\n",
              "      <td>1</td>\n",
              "      <td>1</td>\n",
              "      <td>0</td>\n",
              "    </tr>\n",
              "    <tr>\n",
              "      <th>5</th>\n",
              "      <td>5</td>\n",
              "      <td>1</td>\n",
              "      <td>2</td>\n",
              "      <td>1</td>\n",
              "      <td>0</td>\n",
              "      <td>0</td>\n",
              "      <td>1</td>\n",
              "      <td>0</td>\n",
              "      <td>1</td>\n",
              "      <td>0</td>\n",
              "      <td>0</td>\n",
              "    </tr>\n",
              "  </tbody>\n",
              "</table>\n",
              "</div>\n",
              "      <button class=\"colab-df-convert\" onclick=\"convertToInteractive('df-baa353f3-1b24-4ccf-bb57-300e7cda5824')\"\n",
              "              title=\"Convert this dataframe to an interactive table.\"\n",
              "              style=\"display:none;\">\n",
              "        \n",
              "  <svg xmlns=\"http://www.w3.org/2000/svg\" height=\"24px\"viewBox=\"0 0 24 24\"\n",
              "       width=\"24px\">\n",
              "    <path d=\"M0 0h24v24H0V0z\" fill=\"none\"/>\n",
              "    <path d=\"M18.56 5.44l.94 2.06.94-2.06 2.06-.94-2.06-.94-.94-2.06-.94 2.06-2.06.94zm-11 1L8.5 8.5l.94-2.06 2.06-.94-2.06-.94L8.5 2.5l-.94 2.06-2.06.94zm10 10l.94 2.06.94-2.06 2.06-.94-2.06-.94-.94-2.06-.94 2.06-2.06.94z\"/><path d=\"M17.41 7.96l-1.37-1.37c-.4-.4-.92-.59-1.43-.59-.52 0-1.04.2-1.43.59L10.3 9.45l-7.72 7.72c-.78.78-.78 2.05 0 2.83L4 21.41c.39.39.9.59 1.41.59.51 0 1.02-.2 1.41-.59l7.78-7.78 2.81-2.81c.8-.78.8-2.07 0-2.86zM5.41 20L4 18.59l7.72-7.72 1.47 1.35L5.41 20z\"/>\n",
              "  </svg>\n",
              "      </button>\n",
              "      \n",
              "  <style>\n",
              "    .colab-df-container {\n",
              "      display:flex;\n",
              "      flex-wrap:wrap;\n",
              "      gap: 12px;\n",
              "    }\n",
              "\n",
              "    .colab-df-convert {\n",
              "      background-color: #E8F0FE;\n",
              "      border: none;\n",
              "      border-radius: 50%;\n",
              "      cursor: pointer;\n",
              "      display: none;\n",
              "      fill: #1967D2;\n",
              "      height: 32px;\n",
              "      padding: 0 0 0 0;\n",
              "      width: 32px;\n",
              "    }\n",
              "\n",
              "    .colab-df-convert:hover {\n",
              "      background-color: #E2EBFA;\n",
              "      box-shadow: 0px 1px 2px rgba(60, 64, 67, 0.3), 0px 1px 3px 1px rgba(60, 64, 67, 0.15);\n",
              "      fill: #174EA6;\n",
              "    }\n",
              "\n",
              "    [theme=dark] .colab-df-convert {\n",
              "      background-color: #3B4455;\n",
              "      fill: #D2E3FC;\n",
              "    }\n",
              "\n",
              "    [theme=dark] .colab-df-convert:hover {\n",
              "      background-color: #434B5C;\n",
              "      box-shadow: 0px 1px 3px 1px rgba(0, 0, 0, 0.15);\n",
              "      filter: drop-shadow(0px 1px 2px rgba(0, 0, 0, 0.3));\n",
              "      fill: #FFFFFF;\n",
              "    }\n",
              "  </style>\n",
              "\n",
              "      <script>\n",
              "        const buttonEl =\n",
              "          document.querySelector('#df-baa353f3-1b24-4ccf-bb57-300e7cda5824 button.colab-df-convert');\n",
              "        buttonEl.style.display =\n",
              "          google.colab.kernel.accessAllowed ? 'block' : 'none';\n",
              "\n",
              "        async function convertToInteractive(key) {\n",
              "          const element = document.querySelector('#df-baa353f3-1b24-4ccf-bb57-300e7cda5824');\n",
              "          const dataTable =\n",
              "            await google.colab.kernel.invokeFunction('convertToInteractive',\n",
              "                                                     [key], {});\n",
              "          if (!dataTable) return;\n",
              "\n",
              "          const docLinkHtml = 'Like what you see? Visit the ' +\n",
              "            '<a target=\"_blank\" href=https://colab.research.google.com/notebooks/data_table.ipynb>data table notebook</a>'\n",
              "            + ' to learn more about interactive tables.';\n",
              "          element.innerHTML = '';\n",
              "          dataTable['output_type'] = 'display_data';\n",
              "          await google.colab.output.renderOutput(dataTable, element);\n",
              "          const docLink = document.createElement('div');\n",
              "          docLink.innerHTML = docLinkHtml;\n",
              "          element.appendChild(docLink);\n",
              "        }\n",
              "      </script>\n",
              "    </div>\n",
              "  </div>\n",
              "  "
            ]
          },
          "metadata": {},
          "execution_count": 23
        }
      ],
      "source": [
        "train_X.head()"
      ]
    },
    {
      "cell_type": "code",
      "execution_count": 24,
      "id": "754ac6d8-1504-467d-903a-e3551da9d4f3",
      "metadata": {
        "id": "754ac6d8-1504-467d-903a-e3551da9d4f3",
        "colab": {
          "base_uri": "https://localhost:8080/",
          "height": 0
        },
        "outputId": "affbcff5-ea03-4552-969c-c819f23dc421"
      },
      "outputs": [
        {
          "output_type": "execute_result",
          "data": {
            "text/plain": [
              "0       6835\n",
              "1       9005\n",
              "3       5105\n",
              "4       9105\n",
              "5       8995\n",
              "        ... \n",
              "2993    4815\n",
              "2995    4825\n",
              "2996    6755\n",
              "2997    7565\n",
              "2998    9135\n",
              "Name: price, Length: 2512, dtype: int64"
            ]
          },
          "metadata": {},
          "execution_count": 24
        }
      ],
      "source": [
        "train_Y"
      ]
    },
    {
      "cell_type": "code",
      "execution_count": 25,
      "id": "27cd6424-cf5b-4e18-889b-3ff8adae0ddc",
      "metadata": {
        "id": "27cd6424-cf5b-4e18-889b-3ff8adae0ddc"
      },
      "outputs": [],
      "source": [
        "# Now we are ready to do regression. We want to predict the price."
      ]
    },
    {
      "cell_type": "code",
      "execution_count": 26,
      "id": "5c4dc5b3-bc5d-4fd8-9d5d-9c932a253b0a",
      "metadata": {
        "id": "5c4dc5b3-bc5d-4fd8-9d5d-9c932a253b0a"
      },
      "outputs": [],
      "source": [
        "# Now let's do random forest regression\n",
        "# from sklearn.ensemble import RandomForestRegressor\n",
        "# rf_reg = RandomForestRegressor().fit(train_X, train_Y)\n",
        "# rf_predicted = rf_reg.predict(test_X)\n",
        "# print(rf_reg.score(train_X, train_Y))\n",
        "# print(mean_absolute_error(test_Y, rf_predicted))"
      ]
    },
    {
      "cell_type": "markdown",
      "source": [],
      "metadata": {
        "id": "lxT62d5piGUL"
      },
      "id": "lxT62d5piGUL"
    },
    {
      "cell_type": "markdown",
      "source": [
        "### initializing the regressors"
      ],
      "metadata": {
        "id": "Wi3OfNGGiGeK"
      },
      "id": "Wi3OfNGGiGeK"
    },
    {
      "cell_type": "code",
      "source": [
        "# initialize the regressors\n",
        "linear_regressor = LinearRegression()\n",
        "\n",
        "xgb_reg =  XGBRegressor()\n",
        "polynomial_features = PolynomialFeatures(degree=2)\n",
        "polynomial_regressor = Pipeline([(\"polynomial_features\", polynomial_features),\n",
        "(\"linear_regression\", linear_regressor)])\n",
        "ridge_regressor = Ridge()\n",
        "lasso_regressor = Lasso()\n",
        "elastic_net_regressor = ElasticNet()\n",
        "decision_tree_regressor = DecisionTreeRegressor()\n",
        "random_forest_regressor = RandomForestRegressor()\n",
        "boosted_tree_regressor = GradientBoostingRegressor()\n",
        "neural_network_regressor = MLPRegressor()\n",
        "support_vector_regressor = SVR()\n",
        "grad_regressor = GradientBoostingRegressor(n_estimators=100, learning_rate=0.1, loss='ls')\n",
        "knn_regressor = KNeighborsRegressor(n_neighbors=5, weights='uniform')\n",
        "spline_regressor = make_pipeline(PolynomialFeatures(3), LinearRegression())"
      ],
      "metadata": {
        "id": "iW9Sn3gij9hw"
      },
      "id": "iW9Sn3gij9hw",
      "execution_count": 27,
      "outputs": []
    },
    {
      "cell_type": "code",
      "source": [
        "# \"Initialized regressors placed into a list\"\n",
        "regressors = [linear_regressor, polynomial_regressor, ridge_regressor, lasso_regressor, elastic_net_regressor, \n",
        "              decision_tree_regressor, random_forest_regressor, boosted_tree_regressor, neural_network_regressor, \n",
        "              support_vector_regressor, knn_regressor, spline_regressor, xgb_reg]\n",
        "\n",
        "# collected names of regressors \n",
        "regressor_names = [\"Linear Regression\", \"Polynomial Regression\", \"Ridge Regression\", \"Lasso Regression\", \n",
        "                   \"Elastic Net Regression\", \"Decision Tree Regression\", \"Random Forest Regression\", \n",
        "                   \"Boosted Tree Regression\", \"Neural Network Regression\", \"Support Vector Regression\", \n",
        "                   \"K-Nearest Neighbour Regression\", \"Spline Regression\", 'XGB']"
      ],
      "metadata": {
        "id": "s2w31sQtkJC0"
      },
      "id": "s2w31sQtkJC0",
      "execution_count": 28,
      "outputs": []
    },
    {
      "cell_type": "markdown",
      "source": [
        "### Evaluation of Model"
      ],
      "metadata": {
        "id": "f5kwgXFLiYp0"
      },
      "id": "f5kwgXFLiYp0"
    },
    {
      "cell_type": "code",
      "source": [
        "evaluate_regressors_rmses(regressors, regressor_names, train_X, train_Y, test_X, test_Y)"
      ],
      "metadata": {
        "colab": {
          "base_uri": "https://localhost:8080/",
          "height": 512
        },
        "id": "3JJquxpplswp",
        "outputId": "35815718-ca72-43f8-ff1e-78afb592a29f"
      },
      "id": "3JJquxpplswp",
      "execution_count": 29,
      "outputs": [
        {
          "output_type": "stream",
          "name": "stderr",
          "text": [
            "/usr/local/lib/python3.10/dist-packages/sklearn/neural_network/_multilayer_perceptron.py:686: ConvergenceWarning: Stochastic Optimizer: Maximum iterations (200) reached and the optimization hasn't converged yet.\n",
            "  warnings.warn(\n"
          ]
        },
        {
          "output_type": "execute_result",
          "data": {
            "text/plain": [
              "                    regressor_name         rmse\n",
              "0                Spline Regression    13.000000\n",
              "1                Linear Regression    13.000000\n",
              "2            Polynomial Regression    13.000000\n",
              "3                 Ridge Regression    13.234518\n",
              "4                 Lasso Regression    14.412193\n",
              "5                              XGB    79.677420\n",
              "6          Boosted Tree Regression   123.931694\n",
              "7         Random Forest Regression   225.113341\n",
              "8         Decision Tree Regression   333.764387\n",
              "9   K-Nearest Neighbour Regression   575.107168\n",
              "10          Elastic Net Regression  1149.557828\n",
              "11       Neural Network Regression  1967.209129\n",
              "12       Support Vector Regression  2098.193953"
            ],
            "text/html": [
              "\n",
              "  <div id=\"df-5c35b3cf-1521-456c-82fd-85acda305e00\">\n",
              "    <div class=\"colab-df-container\">\n",
              "      <div>\n",
              "<style scoped>\n",
              "    .dataframe tbody tr th:only-of-type {\n",
              "        vertical-align: middle;\n",
              "    }\n",
              "\n",
              "    .dataframe tbody tr th {\n",
              "        vertical-align: top;\n",
              "    }\n",
              "\n",
              "    .dataframe thead th {\n",
              "        text-align: right;\n",
              "    }\n",
              "</style>\n",
              "<table border=\"1\" class=\"dataframe\">\n",
              "  <thead>\n",
              "    <tr style=\"text-align: right;\">\n",
              "      <th></th>\n",
              "      <th>regressor_name</th>\n",
              "      <th>rmse</th>\n",
              "    </tr>\n",
              "  </thead>\n",
              "  <tbody>\n",
              "    <tr>\n",
              "      <th>0</th>\n",
              "      <td>Spline Regression</td>\n",
              "      <td>13.000000</td>\n",
              "    </tr>\n",
              "    <tr>\n",
              "      <th>1</th>\n",
              "      <td>Linear Regression</td>\n",
              "      <td>13.000000</td>\n",
              "    </tr>\n",
              "    <tr>\n",
              "      <th>2</th>\n",
              "      <td>Polynomial Regression</td>\n",
              "      <td>13.000000</td>\n",
              "    </tr>\n",
              "    <tr>\n",
              "      <th>3</th>\n",
              "      <td>Ridge Regression</td>\n",
              "      <td>13.234518</td>\n",
              "    </tr>\n",
              "    <tr>\n",
              "      <th>4</th>\n",
              "      <td>Lasso Regression</td>\n",
              "      <td>14.412193</td>\n",
              "    </tr>\n",
              "    <tr>\n",
              "      <th>5</th>\n",
              "      <td>XGB</td>\n",
              "      <td>79.677420</td>\n",
              "    </tr>\n",
              "    <tr>\n",
              "      <th>6</th>\n",
              "      <td>Boosted Tree Regression</td>\n",
              "      <td>123.931694</td>\n",
              "    </tr>\n",
              "    <tr>\n",
              "      <th>7</th>\n",
              "      <td>Random Forest Regression</td>\n",
              "      <td>225.113341</td>\n",
              "    </tr>\n",
              "    <tr>\n",
              "      <th>8</th>\n",
              "      <td>Decision Tree Regression</td>\n",
              "      <td>333.764387</td>\n",
              "    </tr>\n",
              "    <tr>\n",
              "      <th>9</th>\n",
              "      <td>K-Nearest Neighbour Regression</td>\n",
              "      <td>575.107168</td>\n",
              "    </tr>\n",
              "    <tr>\n",
              "      <th>10</th>\n",
              "      <td>Elastic Net Regression</td>\n",
              "      <td>1149.557828</td>\n",
              "    </tr>\n",
              "    <tr>\n",
              "      <th>11</th>\n",
              "      <td>Neural Network Regression</td>\n",
              "      <td>1967.209129</td>\n",
              "    </tr>\n",
              "    <tr>\n",
              "      <th>12</th>\n",
              "      <td>Support Vector Regression</td>\n",
              "      <td>2098.193953</td>\n",
              "    </tr>\n",
              "  </tbody>\n",
              "</table>\n",
              "</div>\n",
              "      <button class=\"colab-df-convert\" onclick=\"convertToInteractive('df-5c35b3cf-1521-456c-82fd-85acda305e00')\"\n",
              "              title=\"Convert this dataframe to an interactive table.\"\n",
              "              style=\"display:none;\">\n",
              "        \n",
              "  <svg xmlns=\"http://www.w3.org/2000/svg\" height=\"24px\"viewBox=\"0 0 24 24\"\n",
              "       width=\"24px\">\n",
              "    <path d=\"M0 0h24v24H0V0z\" fill=\"none\"/>\n",
              "    <path d=\"M18.56 5.44l.94 2.06.94-2.06 2.06-.94-2.06-.94-.94-2.06-.94 2.06-2.06.94zm-11 1L8.5 8.5l.94-2.06 2.06-.94-2.06-.94L8.5 2.5l-.94 2.06-2.06.94zm10 10l.94 2.06.94-2.06 2.06-.94-2.06-.94-.94-2.06-.94 2.06-2.06.94z\"/><path d=\"M17.41 7.96l-1.37-1.37c-.4-.4-.92-.59-1.43-.59-.52 0-1.04.2-1.43.59L10.3 9.45l-7.72 7.72c-.78.78-.78 2.05 0 2.83L4 21.41c.39.39.9.59 1.41.59.51 0 1.02-.2 1.41-.59l7.78-7.78 2.81-2.81c.8-.78.8-2.07 0-2.86zM5.41 20L4 18.59l7.72-7.72 1.47 1.35L5.41 20z\"/>\n",
              "  </svg>\n",
              "      </button>\n",
              "      \n",
              "  <style>\n",
              "    .colab-df-container {\n",
              "      display:flex;\n",
              "      flex-wrap:wrap;\n",
              "      gap: 12px;\n",
              "    }\n",
              "\n",
              "    .colab-df-convert {\n",
              "      background-color: #E8F0FE;\n",
              "      border: none;\n",
              "      border-radius: 50%;\n",
              "      cursor: pointer;\n",
              "      display: none;\n",
              "      fill: #1967D2;\n",
              "      height: 32px;\n",
              "      padding: 0 0 0 0;\n",
              "      width: 32px;\n",
              "    }\n",
              "\n",
              "    .colab-df-convert:hover {\n",
              "      background-color: #E2EBFA;\n",
              "      box-shadow: 0px 1px 2px rgba(60, 64, 67, 0.3), 0px 1px 3px 1px rgba(60, 64, 67, 0.15);\n",
              "      fill: #174EA6;\n",
              "    }\n",
              "\n",
              "    [theme=dark] .colab-df-convert {\n",
              "      background-color: #3B4455;\n",
              "      fill: #D2E3FC;\n",
              "    }\n",
              "\n",
              "    [theme=dark] .colab-df-convert:hover {\n",
              "      background-color: #434B5C;\n",
              "      box-shadow: 0px 1px 3px 1px rgba(0, 0, 0, 0.15);\n",
              "      filter: drop-shadow(0px 1px 2px rgba(0, 0, 0, 0.3));\n",
              "      fill: #FFFFFF;\n",
              "    }\n",
              "  </style>\n",
              "\n",
              "      <script>\n",
              "        const buttonEl =\n",
              "          document.querySelector('#df-5c35b3cf-1521-456c-82fd-85acda305e00 button.colab-df-convert');\n",
              "        buttonEl.style.display =\n",
              "          google.colab.kernel.accessAllowed ? 'block' : 'none';\n",
              "\n",
              "        async function convertToInteractive(key) {\n",
              "          const element = document.querySelector('#df-5c35b3cf-1521-456c-82fd-85acda305e00');\n",
              "          const dataTable =\n",
              "            await google.colab.kernel.invokeFunction('convertToInteractive',\n",
              "                                                     [key], {});\n",
              "          if (!dataTable) return;\n",
              "\n",
              "          const docLinkHtml = 'Like what you see? Visit the ' +\n",
              "            '<a target=\"_blank\" href=https://colab.research.google.com/notebooks/data_table.ipynb>data table notebook</a>'\n",
              "            + ' to learn more about interactive tables.';\n",
              "          element.innerHTML = '';\n",
              "          dataTable['output_type'] = 'display_data';\n",
              "          await google.colab.output.renderOutput(dataTable, element);\n",
              "          const docLink = document.createElement('div');\n",
              "          docLink.innerHTML = docLinkHtml;\n",
              "          element.appendChild(docLink);\n",
              "        }\n",
              "      </script>\n",
              "    </div>\n",
              "  </div>\n",
              "  "
            ]
          },
          "metadata": {},
          "execution_count": 29
        }
      ]
    },
    {
      "cell_type": "markdown",
      "source": [
        "Random Forest Evaluation"
      ],
      "metadata": {
        "id": "HCHmMRe8in8S"
      },
      "id": "HCHmMRe8in8S"
    },
    {
      "cell_type": "code",
      "source": [
        "mse, mae, r2, rmse, rf_model, y_pred = evaluate_model(random_forest_regressor, train_X, train_Y, test_X, test_Y)\n",
        "\n",
        "print(f\"MSE: {mse:.2f}\")\n",
        "print(f\"MAE: {mae:.2f}\")\n",
        "print(f\"RMSE: {rmse:.2f}\")\n",
        "print(f\"R-squared: {r2}\")\n"
      ],
      "metadata": {
        "colab": {
          "base_uri": "https://localhost:8080/",
          "height": 0
        },
        "id": "bch5g_XzoNOE",
        "outputId": "8bc472db-8ced-4e6e-a165-517b762b2cc3"
      },
      "id": "bch5g_XzoNOE",
      "execution_count": 30,
      "outputs": [
        {
          "output_type": "stream",
          "name": "stdout",
          "text": [
            "MSE: 51147.34\n",
            "MAE: 173.20\n",
            "RMSE: 226.16\n",
            "R-squared: 0.9897060245224404\n"
          ]
        }
      ]
    },
    {
      "cell_type": "markdown",
      "source": [
        "eXtreme Gradient Boost"
      ],
      "metadata": {
        "id": "tvmklVPeiy6Y"
      },
      "id": "tvmklVPeiy6Y"
    },
    {
      "cell_type": "code",
      "source": [
        "mse, mae, r2, rmse, _model, xgb_pred = evaluate_model(xgb_reg, train_X, train_Y, test_X, test_Y)\n",
        "\n",
        "print(f\"MSE: {mse:.2f}\")\n",
        "print(f\"MAE: {mae:.2f}\")\n",
        "print(f\"RMSE: {rmse:.2f}\")\n",
        "print(f\"R-squared: {r2}\")"
      ],
      "metadata": {
        "colab": {
          "base_uri": "https://localhost:8080/",
          "height": 0
        },
        "id": "mrYYY3hbtPG9",
        "outputId": "e82954c5-9b65-4704-91c2-7a2ad851c11f"
      },
      "id": "mrYYY3hbtPG9",
      "execution_count": 31,
      "outputs": [
        {
          "output_type": "stream",
          "name": "stdout",
          "text": [
            "MSE: 6348.49\n",
            "MAE: 59.60\n",
            "RMSE: 79.68\n",
            "R-squared: 0.9987222950899985\n"
          ]
        }
      ]
    },
    {
      "cell_type": "markdown",
      "source": [
        "converts the predicted prices to CSV file"
      ],
      "metadata": {
        "id": "T_lf2TcujBfx"
      },
      "id": "T_lf2TcujBfx"
    },
    {
      "cell_type": "code",
      "source": [
        "pd.DataFrame(xgb_pred, columns=[\"Predicted Price\"]).to_csv(\"predicted_prices.csv\", index=False)"
      ],
      "metadata": {
        "id": "3-2Q6FSSduhC"
      },
      "id": "3-2Q6FSSduhC",
      "execution_count": 32,
      "outputs": []
    },
    {
      "cell_type": "markdown",
      "source": [
        "### Visualization"
      ],
      "metadata": {
        "id": "jzisH2ORj09v"
      },
      "id": "jzisH2ORj09v"
    },
    {
      "cell_type": "code",
      "source": [
        "make_plot = Plots(test_Y, xgb_pred)\n",
        "make_plot.make_plot()"
      ],
      "metadata": {
        "id": "M8CRH3dNqslX",
        "colab": {
          "base_uri": "https://localhost:8080/",
          "height": 487
        },
        "outputId": "d343c89f-9f8d-4cc7-b453-94ee9604bcfd"
      },
      "id": "M8CRH3dNqslX",
      "execution_count": 37,
      "outputs": [
        {
          "output_type": "display_data",
          "data": {
            "text/plain": [
              "<Figure size 640x480 with 1 Axes>"
            ],
            "image/png": "[encoded data removed]"
          },
          "metadata": {}
        }
      ]
    },
    {
      "cell_type": "code",
      "source": [
        "make_plot.scatter()"
      ],
      "metadata": {
        "colab": {
          "base_uri": "https://localhost:8080/",
          "height": 477
        },
        "id": "6mfD-2K1dkB6",
        "outputId": "7c321839-afae-4677-a9f6-8aff79d8e672"
      },
      "id": "6mfD-2K1dkB6",
      "execution_count": 38,
      "outputs": [
        {
          "output_type": "display_data",
          "data": {
            "text/plain": [
              "<Figure size 640x480 with 1 Axes>"
            ],
            "image/png": "[encoded data removed]"
          },
          "metadata": {}
        }
      ]
    },
    {
      "cell_type": "code",
      "source": [
        "housing_train_data.columns"
      ],
      "metadata": {
        "colab": {
          "base_uri": "https://localhost:8080/",
          "height": 0
        },
        "id": "LMWPWTTLDUtp",
        "outputId": "b4ec9199-48e6-4f10-8c7d-97121690e19a"
      },
      "id": "LMWPWTTLDUtp",
      "execution_count": 35,
      "outputs": [
        {
          "output_type": "execute_result",
          "data": {
            "text/plain": [
              "Index(['room', 'bathroom', 'kitchen', 'french_door', 'backyard', 'furnished',\n",
              "       'green_paint', 'solar_power', 'woodfloor', 'qlm_security',\n",
              "       'club_access', 'price'],\n",
              "      dtype='object')"
            ]
          },
          "metadata": {},
          "execution_count": 35
        }
      ]
    },
    {
      "cell_type": "markdown",
      "source": [
        "### Feature Importance"
      ],
      "metadata": {
        "id": "ikfukC0nkKX7"
      },
      "id": "ikfukC0nkKX7"
    },
    {
      "cell_type": "code",
      "source": [
        "xgb_importances = xgb_reg.feature_importances_\n",
        "xgb_ranks_and_features = zip(xgb_importances, train_X.columns)\n",
        "xgb_ranks_and_features = sorted(xgb_ranks_and_features,reverse=True)\n",
        "print(\"\\nFeature Importances with XGBoost:\")\n",
        "for x, y in xgb_ranks_and_features:\n",
        "    print(x, y)\n",
        "    plt.title('Feature Importance')\n",
        "    plt.barh(y,x)"
      ],
      "metadata": {
        "colab": {
          "base_uri": "https://localhost:8080/",
          "height": 679
        },
        "id": "_4fN_vdQ0yi_",
        "outputId": "704e30a0-a9d8-48cf-c0a9-8c7fab849005"
      },
      "id": "_4fN_vdQ0yi_",
      "execution_count": 36,
      "outputs": [
        {
          "output_type": "stream",
          "name": "stdout",
          "text": [
            "\n",
            "Feature Importances with XGBoost:\n",
            "0.28871346 room\n",
            "0.27646855 furnished\n",
            "0.21538217 woodfloor\n",
            "0.104491316 solar_power\n",
            "0.026979461 club_access\n",
            "0.019012582 backyard\n",
            "0.017987717 kitchen\n",
            "0.015778096 qlm_security\n",
            "0.013372463 green_paint\n",
            "0.010991534 bathroom\n",
            "0.010822636 french_door\n"
          ]
        },
        {
          "output_type": "display_data",
          "data": {
            "text/plain": [
              "<Figure size 640x480 with 1 Axes>"
            ],
            "image/png": "[encoded data removed]"
          },
          "metadata": {}
        }
      ]
    }
  ],
  "metadata": {
    "kernelspec": {
      "display_name": "Python 3 (ipykernel)",
      "language": "python",
      "name": "python3"
    },
    "language_info": {
      "codemirror_mode": {
        "name": "ipython",
        "version": 3
      },
      "file_extension": ".py",
      "mimetype": "text/x-python",
      "name": "python",
      "nbconvert_exporter": "python",
      "pygments_lexer": "ipython3",
      "version": "3.10.6"
    },
    "colab": {
      "provenance": [],
      "collapsed_sections": [
        "Crib6dvSSKoY"
      ],
      "include_colab_link": true
    }
  },
  "nbformat": 4,
  "nbformat_minor": 5
}